{
 "cells": [
  {
   "cell_type": "code",
   "execution_count": null,
   "metadata": {},
   "outputs": [],
   "source": [
    "a=2\n",
    "print(a)\n"
   ]
  },
  {
   "cell_type": "code",
   "execution_count": null,
   "metadata": {},
   "outputs": [
    {
     "name": "stdout",
     "output_type": "stream",
     "text": [
      "2\n"
     ]
    }
   ],
   "source": [
    "print(a)"
   ]
  },
  {
   "cell_type": "markdown",
   "metadata": {},
   "source": [
    "#Matthewgun"
   ]
  },
  {
   "cell_type": "code",
   "execution_count": 5,
   "metadata": {},
   "outputs": [
    {
     "ename": "",
     "evalue": "",
     "output_type": "error",
     "traceback": [
      "\u001b[1;31mCanceled future for execute_request message before replies were done"
     ]
    }
   ],
   "source": [
    "a=int(input())\n",
    "b=int(input())\n",
    "c=a+b\n",
    "print(c)\n"
   ]
  },
  {
   "cell_type": "code",
   "execution_count": 8,
   "metadata": {},
   "outputs": [
    {
     "name": "stdout",
     "output_type": "stream",
     "text": [
      "x y z w\n",
      "0 0 0 0\n",
      "0 0 0 1\n",
      "0 0 1 0\n",
      "1 0 0 0\n",
      "1 0 0 1\n",
      "1 0 1 1\n"
     ]
    }
   ],
   "source": [
    "print(\"x\",\"y\",\"z\",\"w\")\n",
    "for x in range(2):\n",
    "    for y in range(2):\n",
    "        for z in range(2):\n",
    "            for w in range(2):\n",
    "                if ((x+y)*(y+z)-w*z)==False:\n",
    "                    print(x,y,z,w)"
   ]
  },
  {
   "cell_type": "code",
   "execution_count": 9,
   "metadata": {},
   "outputs": [],
   "source": [
    "a=str(input())\n",
    "if a==(\"п\"):\n",
    "    print(\"******\")\n",
    "    print(\"******\")\n",
    "    print(\"**  **\")\n",
    "    print(\"**  **\")\n",
    "    print(\"**  **\")\n",
    "if a==(\"г\"):\n",
    "    print(\"******\")\n",
    "    print(\"******\")\n",
    "    print(\"**\"  )\n",
    "    print(\"**\")\n",
    "    print(\"**\")\n",
    "    "
   ]
  }
 ],
 "metadata": {
  "kernelspec": {
   "display_name": "Python 3.7.4 64-bit",
   "language": "python",
   "name": "python3"
  },
  "language_info": {
   "codemirror_mode": {
    "name": "ipython",
    "version": 3
   },
   "file_extension": ".py",
   "mimetype": "text/x-python",
   "name": "python",
   "nbconvert_exporter": "python",
   "pygments_lexer": "ipython3",
   "version": "3.7.4"
  },
  "orig_nbformat": 4,
  "vscode": {
   "interpreter": {
    "hash": "b426e24ad6aa5a08e11f54094e52324877fc19775875eec67c46f5d8ac44eede"
   }
  }
 },
 "nbformat": 4,
 "nbformat_minor": 2
}
